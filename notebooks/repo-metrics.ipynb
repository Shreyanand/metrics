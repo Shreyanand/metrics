{
 "cells": [
  {
   "cell_type": "markdown",
   "id": "50dcee0c-1ec3-4f00-9fe0-f34759445efe",
   "metadata": {},
   "source": [
    "# Repo Level Metrics"
   ]
  },
  {
   "cell_type": "code",
   "execution_count": 8,
   "id": "d2c5a94e-ee0e-4be8-b4a6-4756a48abc27",
   "metadata": {},
   "outputs": [],
   "source": [
    "import os\n",
    "import json\n",
    "import boto3\n",
    "import datetime as dt\n",
    "import pandas as pd\n",
    "\n",
    "from github import Github\n",
    "from pprint import pprint\n",
    "\n",
    "from srcopsmetrics.metrics import Metrics\n",
    "from srcopsmetrics.entities.issue import Issue\n",
    "from srcopsmetrics.entities.pull_request import PullRequest\n",
    "\n",
    "from dotenv import find_dotenv, load_dotenv"
   ]
  },
  {
   "cell_type": "code",
   "execution_count": 2,
   "id": "f83af63e-fddb-4a9b-94bd-91397b70bc6a",
   "metadata": {},
   "outputs": [
    {
     "data": {
      "text/plain": [
       "True"
      ]
     },
     "execution_count": 2,
     "metadata": {},
     "output_type": "execute_result"
    }
   ],
   "source": [
    "load_dotenv(find_dotenv())"
   ]
  },
  {
   "cell_type": "code",
   "execution_count": 3,
   "id": "10840dbf-4591-4b5b-bab6-b517f7eb3ffd",
   "metadata": {},
   "outputs": [],
   "source": [
    "## CEPH Bucket variables\n",
    "## Create a .env file on your local with the correct configs,\n",
    "s3_endpoint_url = os.getenv(\"S3_ENDPOINT\")\n",
    "s3_access_key = os.getenv(\"S3_ACCESS_KEY\")\n",
    "s3_secret_key = os.getenv(\"S3_SECRET_KEY\")\n",
    "s3_bucket = os.getenv(\"S3_BUCKET\")\n",
    "s3_path = os.getenv(\"S3_PROJECT_KEY\", \"open-services-group/metrics/github\")\n",
    "repo_slug = os.getenv(\"REPO_SLUG\")\n",
    "s3_input_data_path = \"raw_data\"\n",
    "REMOTE = os.getenv(\"REMOTE\")"
   ]
  },
  {
   "cell_type": "code",
   "execution_count": 4,
   "id": "7161a152-3f3b-4072-bc86-8b1c79f40bc8",
   "metadata": {},
   "outputs": [],
   "source": [
    "s3 = boto3.resource(\"s3\",endpoint_url=s3_endpoint_url,aws_access_key_id=s3_access_key,aws_secret_access_key=s3_secret_key)"
   ]
  },
  {
   "cell_type": "code",
   "execution_count": 9,
   "id": "84cd3828-d1b8-4770-9b89-0b16cfef3ef7",
   "metadata": {},
   "outputs": [],
   "source": [
    "# Function to read data from Ceph\n",
    "def read_data_from_ceph(s3_file_path):\n",
    "    print(\"Getting dataset from Ceph\")\n",
    "    content = s3.Object(s3_bucket, s3_file_path)\n",
    "    file = content.get()[\"Body\"].read().decode(\"utf-8\")\n",
    "    data = json.loads(file)\n",
    "    separated_list = data.splitlines()\n",
    "    data_dict = { str(i): json.loads(separated_list[i]) for i in range(0, len(separated_list) ) }\n",
    "    df = pd.DataFrame(data_dict).T\n",
    "    return df"
   ]
  },
  {
   "cell_type": "code",
   "execution_count": 10,
   "id": "0f4b9fdb-bfbf-4099-bdc7-6ded5468e3e3",
   "metadata": {},
   "outputs": [
    {
     "name": "stdout",
     "output_type": "stream",
     "text": [
      "Getting dataset from Ceph\n"
     ]
    },
    {
     "data": {
      "text/html": [
       "<div>\n",
       "<style scoped>\n",
       "    .dataframe tbody tr th:only-of-type {\n",
       "        vertical-align: middle;\n",
       "    }\n",
       "\n",
       "    .dataframe tbody tr th {\n",
       "        vertical-align: top;\n",
       "    }\n",
       "\n",
       "    .dataframe thead th {\n",
       "        text-align: right;\n",
       "    }\n",
       "</style>\n",
       "<table border=\"1\" class=\"dataframe\">\n",
       "  <thead>\n",
       "    <tr style=\"text-align: right;\">\n",
       "      <th></th>\n",
       "      <th>title</th>\n",
       "      <th>body</th>\n",
       "      <th>created_by</th>\n",
       "      <th>created_at</th>\n",
       "      <th>closed_by</th>\n",
       "      <th>closed_at</th>\n",
       "      <th>labels</th>\n",
       "      <th>interactions</th>\n",
       "      <th>id</th>\n",
       "    </tr>\n",
       "  </thead>\n",
       "  <tbody>\n",
       "    <tr>\n",
       "      <th>0</th>\n",
       "      <td>Prepare GPU image for training teacher network...</td>\n",
       "      <td>**Is your feature request related to a problem...</td>\n",
       "      <td>pacospace</td>\n",
       "      <td>1644527768</td>\n",
       "      <td>None</td>\n",
       "      <td>None</td>\n",
       "      <td>{'enhancement': {'color': 'a2eeef', 'labeled_a...</td>\n",
       "      <td>{'pacospace': 8}</td>\n",
       "      <td>128</td>\n",
       "    </tr>\n",
       "    <tr>\n",
       "      <th>1</th>\n",
       "      <td>Value Error related to S3 in demo2 notebook</td>\n",
       "      <td>Value Error related to S3 at Import in when ru...</td>\n",
       "      <td>andraNew</td>\n",
       "      <td>1641590227</td>\n",
       "      <td>andraNew</td>\n",
       "      <td>1642091274</td>\n",
       "      <td>{'bug': {'color': 'd73a4a', 'labeled_at': 1641...</td>\n",
       "      <td>{'andraNew': 123, 'erikerlandson': 90, 'chauha...</td>\n",
       "      <td>127</td>\n",
       "    </tr>\n",
       "    <tr>\n",
       "      <th>2</th>\n",
       "      <td>Create Jupyterbook</td>\n",
       "      <td>Add _toc.yaml and _config.yml for the repo and...</td>\n",
       "      <td>oindrillac</td>\n",
       "      <td>1639764581</td>\n",
       "      <td>oindrillac</td>\n",
       "      <td>1640024593</td>\n",
       "      <td>{}</td>\n",
       "      <td>{}</td>\n",
       "      <td>125</td>\n",
       "    </tr>\n",
       "    <tr>\n",
       "      <th>3</th>\n",
       "      <td>Should we state which base image tag is used i...</td>\n",
       "      <td>See: https://github.com/os-climate/aicoe-osc-d...</td>\n",
       "      <td>pacospace</td>\n",
       "      <td>1639086094</td>\n",
       "      <td>MichaelClifford</td>\n",
       "      <td>1639189607</td>\n",
       "      <td>{}</td>\n",
       "      <td>{'chauhankaranraj': 71, 'pacospace': 39}</td>\n",
       "      <td>122</td>\n",
       "    </tr>\n",
       "    <tr>\n",
       "      <th>4</th>\n",
       "      <td>Use overlays for building images</td>\n",
       "      <td>**Is your feature request related to a problem...</td>\n",
       "      <td>chauhankaranraj</td>\n",
       "      <td>1639077221</td>\n",
       "      <td>None</td>\n",
       "      <td>None</td>\n",
       "      <td>{'enhancement': {'color': 'a2eeef', 'labeled_a...</td>\n",
       "      <td>{'pacospace': 19, 'chauhankaranraj': 40}</td>\n",
       "      <td>121</td>\n",
       "    </tr>\n",
       "  </tbody>\n",
       "</table>\n",
       "</div>"
      ],
      "text/plain": [
       "                                               title  \\\n",
       "0  Prepare GPU image for training teacher network...   \n",
       "1        Value Error related to S3 in demo2 notebook   \n",
       "2                                 Create Jupyterbook   \n",
       "3  Should we state which base image tag is used i...   \n",
       "4                   Use overlays for building images   \n",
       "\n",
       "                                                body       created_by  \\\n",
       "0  **Is your feature request related to a problem...        pacospace   \n",
       "1  Value Error related to S3 at Import in when ru...         andraNew   \n",
       "2  Add _toc.yaml and _config.yml for the repo and...       oindrillac   \n",
       "3  See: https://github.com/os-climate/aicoe-osc-d...        pacospace   \n",
       "4  **Is your feature request related to a problem...  chauhankaranraj   \n",
       "\n",
       "   created_at        closed_by   closed_at  \\\n",
       "0  1644527768             None        None   \n",
       "1  1641590227         andraNew  1642091274   \n",
       "2  1639764581       oindrillac  1640024593   \n",
       "3  1639086094  MichaelClifford  1639189607   \n",
       "4  1639077221             None        None   \n",
       "\n",
       "                                              labels  \\\n",
       "0  {'enhancement': {'color': 'a2eeef', 'labeled_a...   \n",
       "1  {'bug': {'color': 'd73a4a', 'labeled_at': 1641...   \n",
       "2                                                 {}   \n",
       "3                                                 {}   \n",
       "4  {'enhancement': {'color': 'a2eeef', 'labeled_a...   \n",
       "\n",
       "                                        interactions   id  \n",
       "0                                   {'pacospace': 8}  128  \n",
       "1  {'andraNew': 123, 'erikerlandson': 90, 'chauha...  127  \n",
       "2                                                 {}  125  \n",
       "3           {'chauhankaranraj': 71, 'pacospace': 39}  122  \n",
       "4           {'pacospace': 19, 'chauhankaranraj': 40}  121  "
      ]
     },
     "execution_count": 10,
     "metadata": {},
     "output_type": "execute_result"
    }
   ],
   "source": [
    "issues_df = read_data_from_ceph(f\"{s3_path}/srcopsmetrics/bot_knowledge/{repo_slug}/Issue.json\")\n",
    "issues_df.head()"
   ]
  },
  {
   "cell_type": "code",
   "execution_count": 11,
   "id": "6f75f8db-ff0e-4c7b-b7cc-2bba9a6e2220",
   "metadata": {},
   "outputs": [
    {
     "name": "stdout",
     "output_type": "stream",
     "text": [
      "Getting dataset from Ceph\n"
     ]
    },
    {
     "data": {
      "text/html": [
       "<div>\n",
       "<style scoped>\n",
       "    .dataframe tbody tr th:only-of-type {\n",
       "        vertical-align: middle;\n",
       "    }\n",
       "\n",
       "    .dataframe tbody tr th {\n",
       "        vertical-align: top;\n",
       "    }\n",
       "\n",
       "    .dataframe thead th {\n",
       "        text-align: right;\n",
       "    }\n",
       "</style>\n",
       "<table border=\"1\" class=\"dataframe\">\n",
       "  <thead>\n",
       "    <tr style=\"text-align: right;\">\n",
       "      <th></th>\n",
       "      <th>title</th>\n",
       "      <th>body</th>\n",
       "      <th>size</th>\n",
       "      <th>created_by</th>\n",
       "      <th>created_at</th>\n",
       "      <th>closed_at</th>\n",
       "      <th>closed_by</th>\n",
       "      <th>merged_at</th>\n",
       "      <th>merged_by</th>\n",
       "      <th>commits_number</th>\n",
       "      <th>changed_files_number</th>\n",
       "      <th>interactions</th>\n",
       "      <th>reviews</th>\n",
       "      <th>labels</th>\n",
       "      <th>commits</th>\n",
       "      <th>changed_files</th>\n",
       "      <th>first_review_at</th>\n",
       "      <th>first_approve_at</th>\n",
       "      <th>id</th>\n",
       "    </tr>\n",
       "  </thead>\n",
       "  <tbody>\n",
       "    <tr>\n",
       "      <th>0</th>\n",
       "      <td>Add manifests for GPU image build</td>\n",
       "      <td>Signed-off-by: Francesco Murdaca &lt;fmurdaca@red...</td>\n",
       "      <td>XL</td>\n",
       "      <td>pacospace</td>\n",
       "      <td>1644855027</td>\n",
       "      <td>None</td>\n",
       "      <td>None</td>\n",
       "      <td>None</td>\n",
       "      <td>None</td>\n",
       "      <td>1</td>\n",
       "      <td>9</td>\n",
       "      <td>{'pacospace': 22}</td>\n",
       "      <td>{'881638114': {'author': 'erikerlandson', 'wor...</td>\n",
       "      <td>[]</td>\n",
       "      <td>[d2af49daf938560856f315e573cd9e54e92aa570]</td>\n",
       "      <td>[manifests/.sops.yaml, manifests/README.md, ma...</td>\n",
       "      <td>1644863765</td>\n",
       "      <td>1644863765</td>\n",
       "      <td>129</td>\n",
       "    </tr>\n",
       "    <tr>\n",
       "      <th>1</th>\n",
       "      <td>Updated documentation</td>\n",
       "      <td>closes #125 \\r\\ncloses #110 \\r\\n\\r\\nJupyterBoo...</td>\n",
       "      <td>M</td>\n",
       "      <td>oindrillac</td>\n",
       "      <td>1639777200</td>\n",
       "      <td>1640024594</td>\n",
       "      <td>oindrillac</td>\n",
       "      <td>1640024593</td>\n",
       "      <td>oindrillac</td>\n",
       "      <td>1</td>\n",
       "      <td>5</td>\n",
       "      <td>{'oindrillac': 13, 'chauhankaranraj': 18}</td>\n",
       "      <td>{'835457435': {'author': 'aakankshaduggal', 'w...</td>\n",
       "      <td>[]</td>\n",
       "      <td>[523e26606333956764986a296149ca56edf56b40]</td>\n",
       "      <td>[README.md, _config.yml, _toc.yml, notebooks/d...</td>\n",
       "      <td>1639778743</td>\n",
       "      <td>1639793939</td>\n",
       "      <td>126</td>\n",
       "    </tr>\n",
       "    <tr>\n",
       "      <th>2</th>\n",
       "      <td>Update README</td>\n",
       "      <td>This PR \\r\\n- updates the README to mention th...</td>\n",
       "      <td>XS</td>\n",
       "      <td>chauhankaranraj</td>\n",
       "      <td>1639532708</td>\n",
       "      <td>1639591055</td>\n",
       "      <td>MichaelClifford</td>\n",
       "      <td>1639591055</td>\n",
       "      <td>MichaelClifford</td>\n",
       "      <td>1</td>\n",
       "      <td>1</td>\n",
       "      <td>{'MichaelClifford': 1}</td>\n",
       "      <td>{}</td>\n",
       "      <td>[]</td>\n",
       "      <td>[ad9668f096e1e5ebc5b123d1c6df4ea5ed98af5a]</td>\n",
       "      <td>[notebooks/demo2/README.md]</td>\n",
       "      <td>None</td>\n",
       "      <td>None</td>\n",
       "      <td>124</td>\n",
       "    </tr>\n",
       "    <tr>\n",
       "      <th>3</th>\n",
       "      <td>Use specific versions instead of latest for im...</td>\n",
       "      <td>Closes #122</td>\n",
       "      <td>S</td>\n",
       "      <td>chauhankaranraj</td>\n",
       "      <td>1639094750</td>\n",
       "      <td>1639189607</td>\n",
       "      <td>MichaelClifford</td>\n",
       "      <td>1639189607</td>\n",
       "      <td>MichaelClifford</td>\n",
       "      <td>1</td>\n",
       "      <td>3</td>\n",
       "      <td>{'MichaelClifford': 1}</td>\n",
       "      <td>{'828089083': {'author': 'oindrillac', 'words_...</td>\n",
       "      <td>[]</td>\n",
       "      <td>[c0666de738d99cf9a40e2867fc8f4e51a305d086]</td>\n",
       "      <td>[Dockerfile, notebooks/demo2/inference.pipelin...</td>\n",
       "      <td>1639094897</td>\n",
       "      <td>1639094897</td>\n",
       "      <td>123</td>\n",
       "    </tr>\n",
       "    <tr>\n",
       "      <th>4</th>\n",
       "      <td>Finalize Demo 2 readme</td>\n",
       "      <td>This PR adds Superset dashboard link to the Re...</td>\n",
       "      <td>XS</td>\n",
       "      <td>Shreyanand</td>\n",
       "      <td>1638982645</td>\n",
       "      <td>1639079020</td>\n",
       "      <td>MichaelClifford</td>\n",
       "      <td>1639079020</td>\n",
       "      <td>MichaelClifford</td>\n",
       "      <td>1</td>\n",
       "      <td>1</td>\n",
       "      <td>{'MichaelClifford': 1}</td>\n",
       "      <td>{'827649205': {'author': 'chauhankaranraj', 'w...</td>\n",
       "      <td>[]</td>\n",
       "      <td>[ce265997ec1e5bf368d804f571e660edb261a77a]</td>\n",
       "      <td>[notebooks/demo2/README.md]</td>\n",
       "      <td>1639072873</td>\n",
       "      <td>1639072873</td>\n",
       "      <td>119</td>\n",
       "    </tr>\n",
       "  </tbody>\n",
       "</table>\n",
       "</div>"
      ],
      "text/plain": [
       "                                               title  \\\n",
       "0                  Add manifests for GPU image build   \n",
       "1                              Updated documentation   \n",
       "2                                      Update README   \n",
       "3  Use specific versions instead of latest for im...   \n",
       "4                             Finalize Demo 2 readme   \n",
       "\n",
       "                                                body size       created_by  \\\n",
       "0  Signed-off-by: Francesco Murdaca <fmurdaca@red...   XL        pacospace   \n",
       "1  closes #125 \\r\\ncloses #110 \\r\\n\\r\\nJupyterBoo...    M       oindrillac   \n",
       "2  This PR \\r\\n- updates the README to mention th...   XS  chauhankaranraj   \n",
       "3                                       Closes #122     S  chauhankaranraj   \n",
       "4  This PR adds Superset dashboard link to the Re...   XS       Shreyanand   \n",
       "\n",
       "   created_at   closed_at        closed_by   merged_at        merged_by  \\\n",
       "0  1644855027        None             None        None             None   \n",
       "1  1639777200  1640024594       oindrillac  1640024593       oindrillac   \n",
       "2  1639532708  1639591055  MichaelClifford  1639591055  MichaelClifford   \n",
       "3  1639094750  1639189607  MichaelClifford  1639189607  MichaelClifford   \n",
       "4  1638982645  1639079020  MichaelClifford  1639079020  MichaelClifford   \n",
       "\n",
       "  commits_number changed_files_number  \\\n",
       "0              1                    9   \n",
       "1              1                    5   \n",
       "2              1                    1   \n",
       "3              1                    3   \n",
       "4              1                    1   \n",
       "\n",
       "                                interactions  \\\n",
       "0                          {'pacospace': 22}   \n",
       "1  {'oindrillac': 13, 'chauhankaranraj': 18}   \n",
       "2                     {'MichaelClifford': 1}   \n",
       "3                     {'MichaelClifford': 1}   \n",
       "4                     {'MichaelClifford': 1}   \n",
       "\n",
       "                                             reviews labels  \\\n",
       "0  {'881638114': {'author': 'erikerlandson', 'wor...     []   \n",
       "1  {'835457435': {'author': 'aakankshaduggal', 'w...     []   \n",
       "2                                                 {}     []   \n",
       "3  {'828089083': {'author': 'oindrillac', 'words_...     []   \n",
       "4  {'827649205': {'author': 'chauhankaranraj', 'w...     []   \n",
       "\n",
       "                                      commits  \\\n",
       "0  [d2af49daf938560856f315e573cd9e54e92aa570]   \n",
       "1  [523e26606333956764986a296149ca56edf56b40]   \n",
       "2  [ad9668f096e1e5ebc5b123d1c6df4ea5ed98af5a]   \n",
       "3  [c0666de738d99cf9a40e2867fc8f4e51a305d086]   \n",
       "4  [ce265997ec1e5bf368d804f571e660edb261a77a]   \n",
       "\n",
       "                                       changed_files first_review_at  \\\n",
       "0  [manifests/.sops.yaml, manifests/README.md, ma...      1644863765   \n",
       "1  [README.md, _config.yml, _toc.yml, notebooks/d...      1639778743   \n",
       "2                        [notebooks/demo2/README.md]            None   \n",
       "3  [Dockerfile, notebooks/demo2/inference.pipelin...      1639094897   \n",
       "4                        [notebooks/demo2/README.md]      1639072873   \n",
       "\n",
       "  first_approve_at   id  \n",
       "0       1644863765  129  \n",
       "1       1639793939  126  \n",
       "2             None  124  \n",
       "3       1639094897  123  \n",
       "4       1639072873  119  "
      ]
     },
     "execution_count": 11,
     "metadata": {},
     "output_type": "execute_result"
    }
   ],
   "source": [
    "prs_df = read_data_from_ceph(f\"{s3_path}/srcopsmetrics/bot_knowledge/{repo_slug}/PullRequest.json\")\n",
    "prs_df.head()"
   ]
  },
  {
   "cell_type": "markdown",
   "id": "4af03c8b-6f23-4385-a9c9-de497cb48ec1",
   "metadata": {},
   "source": [
    "## Count-type Metrics"
   ]
  },
  {
   "cell_type": "code",
   "execution_count": 28,
   "id": "b1344d6e-1f93-4124-b238-f4f6949358f4",
   "metadata": {},
   "outputs": [
    {
     "data": {
      "text/plain": [
       "18"
      ]
     },
     "execution_count": 28,
     "metadata": {},
     "output_type": "execute_result"
    }
   ],
   "source": [
    "num_open_issues = issues_df['closed_at'].isna().sum()\n",
    "num_open_issues"
   ]
  },
  {
   "cell_type": "markdown",
   "id": "22932f9d-0ddd-4ed6-8d77-ccbf6e879311",
   "metadata": {},
   "source": [
    "### TODO: let thoth team know we need assignees information for issues"
   ]
  },
  {
   "cell_type": "code",
   "execution_count": null,
   "id": "a73b0a86-2e50-49c8-aeec-7757fe3a0300",
   "metadata": {},
   "outputs": [],
   "source": [
    "num_open_issues_wout_assignees = issues_df[issues_df['closed_at'].isna()]\n",
    "num_open_issues_wout_assignees"
   ]
  },
  {
   "cell_type": "code",
   "execution_count": 30,
   "id": "72ebf57c-ff5c-4a34-aead-a2626d3fe18a",
   "metadata": {},
   "outputs": [
    {
     "data": {
      "text/plain": [
       "3"
      ]
     },
     "execution_count": 30,
     "metadata": {},
     "output_type": "execute_result"
    }
   ],
   "source": [
    "num_open_prs = prs_df['closed_at'].isna().sum()\n",
    "num_open_prs"
   ]
  },
  {
   "cell_type": "code",
   "execution_count": 40,
   "id": "52bfe8d3-e176-4dec-a48b-7f9224445e5f",
   "metadata": {},
   "outputs": [
    {
     "name": "stdout",
     "output_type": "stream",
     "text": [
      "6 7\n"
     ]
    },
    {
     "data": {
      "text/plain": [
       "1.1666666666666667"
      ]
     },
     "execution_count": 40,
     "metadata": {},
     "output_type": "execute_result"
    }
   ],
   "source": [
    "num_open_prs_90d = len(prs_df[prs_df['created_at'] > (dt.datetime.now()-dt.timedelta(days=90)).timestamp()])\n",
    "num_closed_prs_90d = len(prs_df[prs_df['closed_at'] > (dt.datetime.now()-dt.timedelta(days=90)).timestamp()])\n",
    "print(num_open_prs_90d, num_closed_prs_90d)\n",
    "\n",
    "ratio = num_closed_prs_90d / num_open_prs_90d\n",
    "ratio"
   ]
  },
  {
   "cell_type": "code",
   "execution_count": null,
   "id": "ae0daab4-f10a-410c-af94-a3f7ec7f3bd1",
   "metadata": {},
   "outputs": [],
   "source": []
  },
  {
   "cell_type": "code",
   "execution_count": 3,
   "id": "9ae10ba8-5264-4398-b54f-f9a63aa2450a",
   "metadata": {},
   "outputs": [],
   "source": [
    "_GITHUB_ACCESS_TOKEN = os.getenv('GITHUB_ACCESS_TOKEN')"
   ]
  },
  {
   "cell_type": "code",
   "execution_count": 9,
   "id": "9a2f0a9a-b2f8-4ea5-ab24-aed6bb408a6a",
   "metadata": {},
   "outputs": [
    {
     "name": "stdout",
     "output_type": "stream",
     "text": [
      "[Issue(title=\"KPI metric calculation notebooks\", number=19),\n",
      " Issue(title=\"Automate metric collection and processing workflow\", number=18),\n",
      " Issue(title=\"[WIP] Add GitHub data analysis notebook\", number=17),\n",
      " Issue(title=\"Notebook to explore the issue/pr data for OSG repos\", number=16),\n",
      " Issue(title=\"Automatic update of dependencies by Kebechet for the rhel:8 environment\", number=15),\n",
      " Issue(title=\"Spike: Define OKR completion\", number=10),\n",
      " Issue(title=\"[EPIC] Visualization\", number=7),\n",
      " Issue(title=\"[EPIC] EDA of metrics\", number=6),\n",
      " Issue(title=\"[EPIC] Metric collection\", number=5),\n",
      " Issue(title=\"Spike: Define initial set of metrics\", number=3)]\n"
     ]
    }
   ],
   "source": [
    "g = Github(_GITHUB_ACCESS_TOKEN)\n",
    "repo = g.get_repo(\"open-services-group/metrics\")\n",
    "issues = repo.get_issues(state=\"open\")\n",
    "pprint(issues.get_page(0))"
   ]
  },
  {
   "cell_type": "code",
   "execution_count": 4,
   "id": "0cca5f89-bf82-4056-93f3-0f375c8e54e6",
   "metadata": {
    "tags": []
   },
   "outputs": [
    {
     "ename": "AttributeError",
     "evalue": "'NoneType' object has no attribute 'endswith'",
     "output_type": "error",
     "traceback": [
      "\u001b[0;31m---------------------------------------------------------------------------\u001b[0m",
      "\u001b[0;31mAttributeError\u001b[0m                            Traceback (most recent call last)",
      "\u001b[0;32m/tmp/ipykernel_2131/3103816518.py\u001b[0m in \u001b[0;36m<module>\u001b[0;34m\u001b[0m\n\u001b[1;32m      2\u001b[0m \u001b[0;34m\u001b[0m\u001b[0m\n\u001b[1;32m      3\u001b[0m \u001b[0mgh_repo\u001b[0m \u001b[0;34m=\u001b[0m \u001b[0mGithub\u001b[0m\u001b[0;34m(\u001b[0m\u001b[0mlogin_or_token\u001b[0m\u001b[0;34m=\u001b[0m\u001b[0m_GITHUB_ACCESS_TOKEN\u001b[0m\u001b[0;34m,\u001b[0m \u001b[0mtimeout\u001b[0m\u001b[0;34m=\u001b[0m\u001b[0;36m50\u001b[0m\u001b[0;34m)\u001b[0m\u001b[0;34m.\u001b[0m\u001b[0mget_repo\u001b[0m\u001b[0;34m(\u001b[0m\u001b[0mrepository\u001b[0m\u001b[0;34m)\u001b[0m\u001b[0;34m\u001b[0m\u001b[0;34m\u001b[0m\u001b[0m\n\u001b[0;32m----> 4\u001b[0;31m \u001b[0mprs\u001b[0m \u001b[0;34m=\u001b[0m \u001b[0mPullRequest\u001b[0m\u001b[0;34m(\u001b[0m\u001b[0mgh_repo\u001b[0m\u001b[0;34m)\u001b[0m\u001b[0;34m.\u001b[0m\u001b[0mload_previous_knowledge\u001b[0m\u001b[0;34m(\u001b[0m\u001b[0mis_local\u001b[0m\u001b[0;34m=\u001b[0m\u001b[0;32mFalse\u001b[0m\u001b[0;34m)\u001b[0m\u001b[0;34m\u001b[0m\u001b[0;34m\u001b[0m\u001b[0m\n\u001b[0m\u001b[1;32m      5\u001b[0m \u001b[0;31m# issues = Issue(gh_repo)#.load_previous_knowledge(is_local=False)\u001b[0m\u001b[0;34m\u001b[0m\u001b[0;34m\u001b[0m\u001b[0;34m\u001b[0m\u001b[0m\n",
      "\u001b[0;32m/opt/app-root/lib64/python3.8/site-packages/srcopsmetrics/entities/interface.py\u001b[0m in \u001b[0;36mload_previous_knowledge\u001b[0;34m(self, is_local)\u001b[0m\n\u001b[1;32m    157\u001b[0m     \u001b[0;32mdef\u001b[0m \u001b[0mload_previous_knowledge\u001b[0m\u001b[0;34m(\u001b[0m\u001b[0mself\u001b[0m\u001b[0;34m,\u001b[0m \u001b[0mis_local\u001b[0m\u001b[0;34m:\u001b[0m \u001b[0mbool\u001b[0m \u001b[0;34m=\u001b[0m \u001b[0;32mFalse\u001b[0m\u001b[0;34m)\u001b[0m \u001b[0;34m->\u001b[0m \u001b[0mpd\u001b[0m\u001b[0;34m.\u001b[0m\u001b[0mDataFrame\u001b[0m\u001b[0;34m:\u001b[0m\u001b[0;34m\u001b[0m\u001b[0;34m\u001b[0m\u001b[0m\n\u001b[1;32m    158\u001b[0m         \u001b[0;34m\"\"\"Load previously collected repo knowledge. If a repo was not inspected before, create its directory.\"\"\"\u001b[0m\u001b[0;34m\u001b[0m\u001b[0;34m\u001b[0m\u001b[0m\n\u001b[0;32m--> 159\u001b[0;31m         \u001b[0mdf\u001b[0m \u001b[0;34m=\u001b[0m \u001b[0mKnowledgeStorage\u001b[0m\u001b[0;34m(\u001b[0m\u001b[0mis_local\u001b[0m\u001b[0;34m=\u001b[0m\u001b[0mis_local\u001b[0m\u001b[0;34m)\u001b[0m\u001b[0;34m.\u001b[0m\u001b[0mload_data\u001b[0m\u001b[0;34m(\u001b[0m\u001b[0mself\u001b[0m\u001b[0;34m.\u001b[0m\u001b[0mfile_path\u001b[0m\u001b[0;34m)\u001b[0m\u001b[0;34m\u001b[0m\u001b[0;34m\u001b[0m\u001b[0m\n\u001b[0m\u001b[1;32m    160\u001b[0m \u001b[0;34m\u001b[0m\u001b[0m\n\u001b[1;32m    161\u001b[0m         \u001b[0;32mif\u001b[0m \u001b[0mdf\u001b[0m\u001b[0;34m.\u001b[0m\u001b[0mempty\u001b[0m\u001b[0;34m:\u001b[0m\u001b[0;34m\u001b[0m\u001b[0;34m\u001b[0m\u001b[0m\n",
      "\u001b[0;32m/opt/app-root/lib64/python3.8/site-packages/srcopsmetrics/entities/tools/storage.py\u001b[0m in \u001b[0;36mload_data\u001b[0;34m(self, file_path, as_json)\u001b[0m\n\u001b[1;32m    126\u001b[0m             \u001b[0mself\u001b[0m\u001b[0;34m.\u001b[0m\u001b[0mload_locally\u001b[0m\u001b[0;34m(\u001b[0m\u001b[0mfile_path\u001b[0m\u001b[0;34m,\u001b[0m \u001b[0mas_json\u001b[0m\u001b[0;34m=\u001b[0m\u001b[0mas_json\u001b[0m\u001b[0;34m)\u001b[0m\u001b[0;34m\u001b[0m\u001b[0;34m\u001b[0m\u001b[0m\n\u001b[1;32m    127\u001b[0m             \u001b[0;32mif\u001b[0m \u001b[0mself\u001b[0m\u001b[0;34m.\u001b[0m\u001b[0mis_local\u001b[0m\u001b[0;34m\u001b[0m\u001b[0;34m\u001b[0m\u001b[0m\n\u001b[0;32m--> 128\u001b[0;31m             \u001b[0;32melse\u001b[0m \u001b[0mself\u001b[0m\u001b[0;34m.\u001b[0m\u001b[0mload_remotely\u001b[0m\u001b[0;34m(\u001b[0m\u001b[0mfile_path\u001b[0m\u001b[0;34m,\u001b[0m \u001b[0mas_json\u001b[0m\u001b[0;34m=\u001b[0m\u001b[0mas_json\u001b[0m\u001b[0;34m)\u001b[0m\u001b[0;34m\u001b[0m\u001b[0;34m\u001b[0m\u001b[0m\n\u001b[0m\u001b[1;32m    129\u001b[0m         )\n\u001b[1;32m    130\u001b[0m \u001b[0;34m\u001b[0m\u001b[0m\n",
      "\u001b[0;32m/opt/app-root/lib64/python3.8/site-packages/srcopsmetrics/entities/tools/storage.py\u001b[0m in \u001b[0;36mload_remotely\u001b[0;34m(self, file_path, as_json)\u001b[0m\n\u001b[1;32m    151\u001b[0m         \u001b[0mceph_filename\u001b[0m \u001b[0;34m=\u001b[0m \u001b[0mos\u001b[0m\u001b[0;34m.\u001b[0m\u001b[0mpath\u001b[0m\u001b[0;34m.\u001b[0m\u001b[0mrelpath\u001b[0m\u001b[0;34m(\u001b[0m\u001b[0mfile_path\u001b[0m\u001b[0;34m)\u001b[0m\u001b[0;34m.\u001b[0m\u001b[0mreplace\u001b[0m\u001b[0;34m(\u001b[0m\u001b[0;34m\"./\"\u001b[0m\u001b[0;34m,\u001b[0m \u001b[0;34m\"\"\u001b[0m\u001b[0;34m)\u001b[0m\u001b[0;34m\u001b[0m\u001b[0;34m\u001b[0m\u001b[0m\n\u001b[1;32m    152\u001b[0m         \u001b[0;32mtry\u001b[0m\u001b[0;34m:\u001b[0m\u001b[0;34m\u001b[0m\u001b[0;34m\u001b[0m\u001b[0m\n\u001b[0;32m--> 153\u001b[0;31m             \u001b[0mdata\u001b[0m \u001b[0;34m=\u001b[0m \u001b[0mself\u001b[0m\u001b[0;34m.\u001b[0m\u001b[0mget_ceph_store\u001b[0m\u001b[0;34m(\u001b[0m\u001b[0;34m)\u001b[0m\u001b[0;34m.\u001b[0m\u001b[0mretrieve_document\u001b[0m\u001b[0;34m(\u001b[0m\u001b[0mceph_filename\u001b[0m\u001b[0;34m)\u001b[0m\u001b[0;34m\u001b[0m\u001b[0;34m\u001b[0m\u001b[0m\n\u001b[0m\u001b[1;32m    154\u001b[0m             \u001b[0;32mif\u001b[0m \u001b[0;32mnot\u001b[0m \u001b[0mas_json\u001b[0m\u001b[0;34m:\u001b[0m\u001b[0;34m\u001b[0m\u001b[0;34m\u001b[0m\u001b[0m\n\u001b[1;32m    155\u001b[0m                 \u001b[0mdata\u001b[0m \u001b[0;34m=\u001b[0m \u001b[0mload_data_frame\u001b[0m\u001b[0;34m(\u001b[0m\u001b[0mdata\u001b[0m\u001b[0;34m)\u001b[0m\u001b[0;34m\u001b[0m\u001b[0;34m\u001b[0m\u001b[0m\n",
      "\u001b[0;32m/opt/app-root/lib64/python3.8/site-packages/srcopsmetrics/entities/tools/storage.py\u001b[0m in \u001b[0;36mget_ceph_store\u001b[0;34m(self)\u001b[0m\n\u001b[1;32m     79\u001b[0m     \u001b[0;32mdef\u001b[0m \u001b[0mget_ceph_store\u001b[0m\u001b[0;34m(\u001b[0m\u001b[0mself\u001b[0m\u001b[0;34m)\u001b[0m \u001b[0;34m->\u001b[0m \u001b[0mCephStore\u001b[0m\u001b[0;34m:\u001b[0m\u001b[0;34m\u001b[0m\u001b[0;34m\u001b[0m\u001b[0m\n\u001b[1;32m     80\u001b[0m         \u001b[0;34m\"\"\"Establish a connection to the CEPH.\"\"\"\u001b[0m\u001b[0;34m\u001b[0m\u001b[0;34m\u001b[0m\u001b[0m\n\u001b[0;32m---> 81\u001b[0;31m         s3 = CephStore(\n\u001b[0m\u001b[1;32m     82\u001b[0m             \u001b[0mkey_id\u001b[0m\u001b[0;34m=\u001b[0m\u001b[0mself\u001b[0m\u001b[0;34m.\u001b[0m\u001b[0m_KEY_ID\u001b[0m\u001b[0;34m,\u001b[0m \u001b[0msecret_key\u001b[0m\u001b[0;34m=\u001b[0m\u001b[0mself\u001b[0m\u001b[0;34m.\u001b[0m\u001b[0m_SECRET_KEY\u001b[0m\u001b[0;34m,\u001b[0m \u001b[0mprefix\u001b[0m\u001b[0;34m=\u001b[0m\u001b[0mself\u001b[0m\u001b[0;34m.\u001b[0m\u001b[0m_PREFIX\u001b[0m\u001b[0;34m,\u001b[0m \u001b[0mhost\u001b[0m\u001b[0;34m=\u001b[0m\u001b[0mself\u001b[0m\u001b[0;34m.\u001b[0m\u001b[0m_HOST\u001b[0m\u001b[0;34m,\u001b[0m \u001b[0mbucket\u001b[0m\u001b[0;34m=\u001b[0m\u001b[0mself\u001b[0m\u001b[0;34m.\u001b[0m\u001b[0m_BUCKET\u001b[0m\u001b[0;34m\u001b[0m\u001b[0;34m\u001b[0m\u001b[0m\n\u001b[1;32m     83\u001b[0m         )\n",
      "\u001b[0;32m/opt/app-root/lib64/python3.8/site-packages/thoth/storages/ceph.py\u001b[0m in \u001b[0;36m__init__\u001b[0;34m(self, prefix, host, key_id, secret_key, bucket, region)\u001b[0m\n\u001b[1;32m     55\u001b[0m         \u001b[0mself\u001b[0m\u001b[0;34m.\u001b[0m\u001b[0mprefix\u001b[0m \u001b[0;34m=\u001b[0m \u001b[0mprefix\u001b[0m\u001b[0;34m\u001b[0m\u001b[0;34m\u001b[0m\u001b[0m\n\u001b[1;32m     56\u001b[0m \u001b[0;34m\u001b[0m\u001b[0m\n\u001b[0;32m---> 57\u001b[0;31m         \u001b[0;32mif\u001b[0m \u001b[0;32mnot\u001b[0m \u001b[0mself\u001b[0m\u001b[0;34m.\u001b[0m\u001b[0mprefix\u001b[0m\u001b[0;34m.\u001b[0m\u001b[0mendswith\u001b[0m\u001b[0;34m(\u001b[0m\u001b[0;34m\"/\"\u001b[0m\u001b[0;34m)\u001b[0m\u001b[0;34m:\u001b[0m\u001b[0;34m\u001b[0m\u001b[0;34m\u001b[0m\u001b[0m\n\u001b[0m\u001b[1;32m     58\u001b[0m             \u001b[0mself\u001b[0m\u001b[0;34m.\u001b[0m\u001b[0mprefix\u001b[0m \u001b[0;34m+=\u001b[0m \u001b[0;34m\"/\"\u001b[0m\u001b[0;34m\u001b[0m\u001b[0;34m\u001b[0m\u001b[0m\n\u001b[1;32m     59\u001b[0m \u001b[0;34m\u001b[0m\u001b[0m\n",
      "\u001b[0;31mAttributeError\u001b[0m: 'NoneType' object has no attribute 'endswith'"
     ]
    }
   ],
   "source": [
    "repository = \"os-climate/aicoe-osc-demo\"\n",
    "\n",
    "gh_repo = Github(login_or_token=_GITHUB_ACCESS_TOKEN, timeout=50).get_repo(repository)\n",
    "prs = PullRequest(gh_repo).load_previous_knowledge(is_local=False)\n",
    "# issues = Issue(gh_repo)#.load_previous_knowledge(is_local=False)"
   ]
  },
  {
   "cell_type": "code",
   "execution_count": 6,
   "id": "421f85e5-8ae0-4200-8afa-0ef50a4a0922",
   "metadata": {},
   "outputs": [],
   "source": [
    "metrics = Metrics(repository=\"os-climate/aicoe-osc-demo\")"
   ]
  },
  {
   "cell_type": "code",
   "execution_count": 7,
   "id": "611ecdc4-2d0c-4059-b41d-8872819c6d40",
   "metadata": {},
   "outputs": [
    {
     "ename": "ValueError",
     "evalue": "Length mismatch: Expected axis has 0 elements, new values have 3 elements",
     "output_type": "error",
     "traceback": [
      "\u001b[0;31m---------------------------------------------------------------------------\u001b[0m",
      "\u001b[0;31mValueError\u001b[0m                                Traceback (most recent call last)",
      "\u001b[0;32m/tmp/ipykernel_2045/2715422034.py\u001b[0m in \u001b[0;36m<module>\u001b[0;34m\u001b[0m\n\u001b[0;32m----> 1\u001b[0;31m \u001b[0missue_metrics\u001b[0m \u001b[0;34m=\u001b[0m \u001b[0mmetrics\u001b[0m\u001b[0;34m.\u001b[0m\u001b[0mprocess_issues\u001b[0m\u001b[0;34m(\u001b[0m\u001b[0;34m)\u001b[0m\u001b[0;34m\u001b[0m\u001b[0;34m\u001b[0m\u001b[0m\n\u001b[0m\u001b[1;32m      2\u001b[0m \u001b[0missue_metrics\u001b[0m\u001b[0;34m\u001b[0m\u001b[0;34m\u001b[0m\u001b[0m\n",
      "\u001b[0;32m/opt/app-root/lib64/python3.8/site-packages/srcopsmetrics/metrics.py\u001b[0m in \u001b[0;36mprocess_issues\u001b[0;34m(self, remove_outliers)\u001b[0m\n\u001b[1;32m     74\u001b[0m \u001b[0;34m\u001b[0m\u001b[0m\n\u001b[1;32m     75\u001b[0m         \u001b[0maggregated\u001b[0m \u001b[0;34m=\u001b[0m \u001b[0mpd\u001b[0m\u001b[0;34m.\u001b[0m\u001b[0mDataFrame\u001b[0m\u001b[0;34m(\u001b[0m\u001b[0mdata\u001b[0m\u001b[0;34m)\u001b[0m\u001b[0;34m\u001b[0m\u001b[0;34m\u001b[0m\u001b[0m\n\u001b[0;32m---> 76\u001b[0;31m         \u001b[0maggregated\u001b[0m\u001b[0;34m.\u001b[0m\u001b[0mcolumns\u001b[0m \u001b[0;34m=\u001b[0m \u001b[0;34m[\u001b[0m\u001b[0;34m\"issue_id\"\u001b[0m\u001b[0;34m,\u001b[0m \u001b[0;34m\"date\"\u001b[0m\u001b[0;34m,\u001b[0m \u001b[0;34m\"ttci\"\u001b[0m\u001b[0;34m]\u001b[0m\u001b[0;34m\u001b[0m\u001b[0;34m\u001b[0m\u001b[0m\n\u001b[0m\u001b[1;32m     77\u001b[0m \u001b[0;34m\u001b[0m\u001b[0m\n\u001b[1;32m     78\u001b[0m         \u001b[0;32mif\u001b[0m \u001b[0mremove_outliers\u001b[0m\u001b[0;34m:\u001b[0m\u001b[0;34m\u001b[0m\u001b[0;34m\u001b[0m\u001b[0m\n",
      "\u001b[0;32m/opt/app-root/lib64/python3.8/site-packages/pandas/core/generic.py\u001b[0m in \u001b[0;36m__setattr__\u001b[0;34m(self, name, value)\u001b[0m\n\u001b[1;32m   5498\u001b[0m         \u001b[0;32mtry\u001b[0m\u001b[0;34m:\u001b[0m\u001b[0;34m\u001b[0m\u001b[0;34m\u001b[0m\u001b[0m\n\u001b[1;32m   5499\u001b[0m             \u001b[0mobject\u001b[0m\u001b[0;34m.\u001b[0m\u001b[0m__getattribute__\u001b[0m\u001b[0;34m(\u001b[0m\u001b[0mself\u001b[0m\u001b[0;34m,\u001b[0m \u001b[0mname\u001b[0m\u001b[0;34m)\u001b[0m\u001b[0;34m\u001b[0m\u001b[0;34m\u001b[0m\u001b[0m\n\u001b[0;32m-> 5500\u001b[0;31m             \u001b[0;32mreturn\u001b[0m \u001b[0mobject\u001b[0m\u001b[0;34m.\u001b[0m\u001b[0m__setattr__\u001b[0m\u001b[0;34m(\u001b[0m\u001b[0mself\u001b[0m\u001b[0;34m,\u001b[0m \u001b[0mname\u001b[0m\u001b[0;34m,\u001b[0m \u001b[0mvalue\u001b[0m\u001b[0;34m)\u001b[0m\u001b[0;34m\u001b[0m\u001b[0;34m\u001b[0m\u001b[0m\n\u001b[0m\u001b[1;32m   5501\u001b[0m         \u001b[0;32mexcept\u001b[0m \u001b[0mAttributeError\u001b[0m\u001b[0;34m:\u001b[0m\u001b[0;34m\u001b[0m\u001b[0;34m\u001b[0m\u001b[0m\n\u001b[1;32m   5502\u001b[0m             \u001b[0;32mpass\u001b[0m\u001b[0;34m\u001b[0m\u001b[0;34m\u001b[0m\u001b[0m\n",
      "\u001b[0;32m/opt/app-root/lib64/python3.8/site-packages/pandas/_libs/properties.pyx\u001b[0m in \u001b[0;36mpandas._libs.properties.AxisProperty.__set__\u001b[0;34m()\u001b[0m\n",
      "\u001b[0;32m/opt/app-root/lib64/python3.8/site-packages/pandas/core/generic.py\u001b[0m in \u001b[0;36m_set_axis\u001b[0;34m(self, axis, labels)\u001b[0m\n\u001b[1;32m    764\u001b[0m     \u001b[0;32mdef\u001b[0m \u001b[0m_set_axis\u001b[0m\u001b[0;34m(\u001b[0m\u001b[0mself\u001b[0m\u001b[0;34m,\u001b[0m \u001b[0maxis\u001b[0m\u001b[0;34m:\u001b[0m \u001b[0mint\u001b[0m\u001b[0;34m,\u001b[0m \u001b[0mlabels\u001b[0m\u001b[0;34m:\u001b[0m \u001b[0mIndex\u001b[0m\u001b[0;34m)\u001b[0m \u001b[0;34m->\u001b[0m \u001b[0;32mNone\u001b[0m\u001b[0;34m:\u001b[0m\u001b[0;34m\u001b[0m\u001b[0;34m\u001b[0m\u001b[0m\n\u001b[1;32m    765\u001b[0m         \u001b[0mlabels\u001b[0m \u001b[0;34m=\u001b[0m \u001b[0mensure_index\u001b[0m\u001b[0;34m(\u001b[0m\u001b[0mlabels\u001b[0m\u001b[0;34m)\u001b[0m\u001b[0;34m\u001b[0m\u001b[0;34m\u001b[0m\u001b[0m\n\u001b[0;32m--> 766\u001b[0;31m         \u001b[0mself\u001b[0m\u001b[0;34m.\u001b[0m\u001b[0m_mgr\u001b[0m\u001b[0;34m.\u001b[0m\u001b[0mset_axis\u001b[0m\u001b[0;34m(\u001b[0m\u001b[0maxis\u001b[0m\u001b[0;34m,\u001b[0m \u001b[0mlabels\u001b[0m\u001b[0;34m)\u001b[0m\u001b[0;34m\u001b[0m\u001b[0;34m\u001b[0m\u001b[0m\n\u001b[0m\u001b[1;32m    767\u001b[0m         \u001b[0mself\u001b[0m\u001b[0;34m.\u001b[0m\u001b[0m_clear_item_cache\u001b[0m\u001b[0;34m(\u001b[0m\u001b[0;34m)\u001b[0m\u001b[0;34m\u001b[0m\u001b[0;34m\u001b[0m\u001b[0m\n\u001b[1;32m    768\u001b[0m \u001b[0;34m\u001b[0m\u001b[0m\n",
      "\u001b[0;32m/opt/app-root/lib64/python3.8/site-packages/pandas/core/internals/managers.py\u001b[0m in \u001b[0;36mset_axis\u001b[0;34m(self, axis, new_labels)\u001b[0m\n\u001b[1;32m    214\u001b[0m     \u001b[0;32mdef\u001b[0m \u001b[0mset_axis\u001b[0m\u001b[0;34m(\u001b[0m\u001b[0mself\u001b[0m\u001b[0;34m,\u001b[0m \u001b[0maxis\u001b[0m\u001b[0;34m:\u001b[0m \u001b[0mint\u001b[0m\u001b[0;34m,\u001b[0m \u001b[0mnew_labels\u001b[0m\u001b[0;34m:\u001b[0m \u001b[0mIndex\u001b[0m\u001b[0;34m)\u001b[0m \u001b[0;34m->\u001b[0m \u001b[0;32mNone\u001b[0m\u001b[0;34m:\u001b[0m\u001b[0;34m\u001b[0m\u001b[0;34m\u001b[0m\u001b[0m\n\u001b[1;32m    215\u001b[0m         \u001b[0;31m# Caller is responsible for ensuring we have an Index object.\u001b[0m\u001b[0;34m\u001b[0m\u001b[0;34m\u001b[0m\u001b[0;34m\u001b[0m\u001b[0m\n\u001b[0;32m--> 216\u001b[0;31m         \u001b[0mself\u001b[0m\u001b[0;34m.\u001b[0m\u001b[0m_validate_set_axis\u001b[0m\u001b[0;34m(\u001b[0m\u001b[0maxis\u001b[0m\u001b[0;34m,\u001b[0m \u001b[0mnew_labels\u001b[0m\u001b[0;34m)\u001b[0m\u001b[0;34m\u001b[0m\u001b[0;34m\u001b[0m\u001b[0m\n\u001b[0m\u001b[1;32m    217\u001b[0m         \u001b[0mself\u001b[0m\u001b[0;34m.\u001b[0m\u001b[0maxes\u001b[0m\u001b[0;34m[\u001b[0m\u001b[0maxis\u001b[0m\u001b[0;34m]\u001b[0m \u001b[0;34m=\u001b[0m \u001b[0mnew_labels\u001b[0m\u001b[0;34m\u001b[0m\u001b[0;34m\u001b[0m\u001b[0m\n\u001b[1;32m    218\u001b[0m \u001b[0;34m\u001b[0m\u001b[0m\n",
      "\u001b[0;32m/opt/app-root/lib64/python3.8/site-packages/pandas/core/internals/base.py\u001b[0m in \u001b[0;36m_validate_set_axis\u001b[0;34m(self, axis, new_labels)\u001b[0m\n\u001b[1;32m     55\u001b[0m \u001b[0;34m\u001b[0m\u001b[0m\n\u001b[1;32m     56\u001b[0m         \u001b[0;32melif\u001b[0m \u001b[0mnew_len\u001b[0m \u001b[0;34m!=\u001b[0m \u001b[0mold_len\u001b[0m\u001b[0;34m:\u001b[0m\u001b[0;34m\u001b[0m\u001b[0;34m\u001b[0m\u001b[0m\n\u001b[0;32m---> 57\u001b[0;31m             raise ValueError(\n\u001b[0m\u001b[1;32m     58\u001b[0m                 \u001b[0;34mf\"Length mismatch: Expected axis has {old_len} elements, new \"\u001b[0m\u001b[0;34m\u001b[0m\u001b[0;34m\u001b[0m\u001b[0m\n\u001b[1;32m     59\u001b[0m                 \u001b[0;34mf\"values have {new_len} elements\"\u001b[0m\u001b[0;34m\u001b[0m\u001b[0;34m\u001b[0m\u001b[0m\n",
      "\u001b[0;31mValueError\u001b[0m: Length mismatch: Expected axis has 0 elements, new values have 3 elements"
     ]
    }
   ],
   "source": [
    "issue_metrics = metrics.process_issues()\n",
    "issue_metrics"
   ]
  },
  {
   "cell_type": "code",
   "execution_count": 8,
   "id": "7c76728f-d174-4c3e-b405-10dfdbc8a8a7",
   "metadata": {
    "tags": []
   },
   "outputs": [
    {
     "ename": "ValueError",
     "evalue": "Length mismatch: Expected axis has 0 elements, new values have 9 elements",
     "output_type": "error",
     "traceback": [
      "\u001b[0;31m---------------------------------------------------------------------------\u001b[0m",
      "\u001b[0;31mValueError\u001b[0m                                Traceback (most recent call last)",
      "\u001b[0;32m/tmp/ipykernel_2045/334568982.py\u001b[0m in \u001b[0;36m<module>\u001b[0;34m\u001b[0m\n\u001b[0;32m----> 1\u001b[0;31m \u001b[0mpr_metrics\u001b[0m \u001b[0;34m=\u001b[0m \u001b[0mmetrics\u001b[0m\u001b[0;34m.\u001b[0m\u001b[0mprocess_pull_requests\u001b[0m\u001b[0;34m(\u001b[0m\u001b[0;34m)\u001b[0m\u001b[0;34m\u001b[0m\u001b[0;34m\u001b[0m\u001b[0m\n\u001b[0m\u001b[1;32m      2\u001b[0m \u001b[0mpr_metrics\u001b[0m\u001b[0;34m\u001b[0m\u001b[0;34m\u001b[0m\u001b[0m\n",
      "\u001b[0;32m/opt/app-root/lib64/python3.8/site-packages/srcopsmetrics/metrics.py\u001b[0m in \u001b[0;36mprocess_pull_requests\u001b[0;34m(self, remove_outliers)\u001b[0m\n\u001b[1;32m    118\u001b[0m \u001b[0;34m\u001b[0m\u001b[0m\n\u001b[1;32m    119\u001b[0m         \u001b[0maggregated\u001b[0m \u001b[0;34m=\u001b[0m \u001b[0mpd\u001b[0m\u001b[0;34m.\u001b[0m\u001b[0mDataFrame\u001b[0m\u001b[0;34m(\u001b[0m\u001b[0mdata\u001b[0m\u001b[0;34m)\u001b[0m\u001b[0;34m\u001b[0m\u001b[0;34m\u001b[0m\u001b[0m\n\u001b[0;32m--> 120\u001b[0;31m         \u001b[0maggregated\u001b[0m\u001b[0;34m.\u001b[0m\u001b[0mcolumns\u001b[0m \u001b[0;34m=\u001b[0m \u001b[0;34m[\u001b[0m\u001b[0;34m\"pr_id\"\u001b[0m\u001b[0;34m,\u001b[0m \u001b[0;34m\"date\"\u001b[0m\u001b[0;34m,\u001b[0m \u001b[0;34m\"author\"\u001b[0m\u001b[0;34m,\u001b[0m \u001b[0;34m\"size\"\u001b[0m\u001b[0;34m,\u001b[0m \u001b[0;34m\"labels\"\u001b[0m\u001b[0;34m,\u001b[0m \u001b[0;34m\"reviewers\"\u001b[0m\u001b[0;34m,\u001b[0m \u001b[0;34m\"ttm\"\u001b[0m\u001b[0;34m,\u001b[0m \u001b[0;34m\"ttfr\"\u001b[0m\u001b[0;34m,\u001b[0m \u001b[0;34m\"tta\"\u001b[0m\u001b[0;34m]\u001b[0m\u001b[0;34m\u001b[0m\u001b[0;34m\u001b[0m\u001b[0m\n\u001b[0m\u001b[1;32m    121\u001b[0m \u001b[0;34m\u001b[0m\u001b[0m\n\u001b[1;32m    122\u001b[0m         \u001b[0;32mif\u001b[0m \u001b[0mremove_outliers\u001b[0m\u001b[0;34m:\u001b[0m\u001b[0;34m\u001b[0m\u001b[0;34m\u001b[0m\u001b[0m\n",
      "\u001b[0;32m/opt/app-root/lib64/python3.8/site-packages/pandas/core/generic.py\u001b[0m in \u001b[0;36m__setattr__\u001b[0;34m(self, name, value)\u001b[0m\n\u001b[1;32m   5498\u001b[0m         \u001b[0;32mtry\u001b[0m\u001b[0;34m:\u001b[0m\u001b[0;34m\u001b[0m\u001b[0;34m\u001b[0m\u001b[0m\n\u001b[1;32m   5499\u001b[0m             \u001b[0mobject\u001b[0m\u001b[0;34m.\u001b[0m\u001b[0m__getattribute__\u001b[0m\u001b[0;34m(\u001b[0m\u001b[0mself\u001b[0m\u001b[0;34m,\u001b[0m \u001b[0mname\u001b[0m\u001b[0;34m)\u001b[0m\u001b[0;34m\u001b[0m\u001b[0;34m\u001b[0m\u001b[0m\n\u001b[0;32m-> 5500\u001b[0;31m             \u001b[0;32mreturn\u001b[0m \u001b[0mobject\u001b[0m\u001b[0;34m.\u001b[0m\u001b[0m__setattr__\u001b[0m\u001b[0;34m(\u001b[0m\u001b[0mself\u001b[0m\u001b[0;34m,\u001b[0m \u001b[0mname\u001b[0m\u001b[0;34m,\u001b[0m \u001b[0mvalue\u001b[0m\u001b[0;34m)\u001b[0m\u001b[0;34m\u001b[0m\u001b[0;34m\u001b[0m\u001b[0m\n\u001b[0m\u001b[1;32m   5501\u001b[0m         \u001b[0;32mexcept\u001b[0m \u001b[0mAttributeError\u001b[0m\u001b[0;34m:\u001b[0m\u001b[0;34m\u001b[0m\u001b[0;34m\u001b[0m\u001b[0m\n\u001b[1;32m   5502\u001b[0m             \u001b[0;32mpass\u001b[0m\u001b[0;34m\u001b[0m\u001b[0;34m\u001b[0m\u001b[0m\n",
      "\u001b[0;32m/opt/app-root/lib64/python3.8/site-packages/pandas/_libs/properties.pyx\u001b[0m in \u001b[0;36mpandas._libs.properties.AxisProperty.__set__\u001b[0;34m()\u001b[0m\n",
      "\u001b[0;32m/opt/app-root/lib64/python3.8/site-packages/pandas/core/generic.py\u001b[0m in \u001b[0;36m_set_axis\u001b[0;34m(self, axis, labels)\u001b[0m\n\u001b[1;32m    764\u001b[0m     \u001b[0;32mdef\u001b[0m \u001b[0m_set_axis\u001b[0m\u001b[0;34m(\u001b[0m\u001b[0mself\u001b[0m\u001b[0;34m,\u001b[0m \u001b[0maxis\u001b[0m\u001b[0;34m:\u001b[0m \u001b[0mint\u001b[0m\u001b[0;34m,\u001b[0m \u001b[0mlabels\u001b[0m\u001b[0;34m:\u001b[0m \u001b[0mIndex\u001b[0m\u001b[0;34m)\u001b[0m \u001b[0;34m->\u001b[0m \u001b[0;32mNone\u001b[0m\u001b[0;34m:\u001b[0m\u001b[0;34m\u001b[0m\u001b[0;34m\u001b[0m\u001b[0m\n\u001b[1;32m    765\u001b[0m         \u001b[0mlabels\u001b[0m \u001b[0;34m=\u001b[0m \u001b[0mensure_index\u001b[0m\u001b[0;34m(\u001b[0m\u001b[0mlabels\u001b[0m\u001b[0;34m)\u001b[0m\u001b[0;34m\u001b[0m\u001b[0;34m\u001b[0m\u001b[0m\n\u001b[0;32m--> 766\u001b[0;31m         \u001b[0mself\u001b[0m\u001b[0;34m.\u001b[0m\u001b[0m_mgr\u001b[0m\u001b[0;34m.\u001b[0m\u001b[0mset_axis\u001b[0m\u001b[0;34m(\u001b[0m\u001b[0maxis\u001b[0m\u001b[0;34m,\u001b[0m \u001b[0mlabels\u001b[0m\u001b[0;34m)\u001b[0m\u001b[0;34m\u001b[0m\u001b[0;34m\u001b[0m\u001b[0m\n\u001b[0m\u001b[1;32m    767\u001b[0m         \u001b[0mself\u001b[0m\u001b[0;34m.\u001b[0m\u001b[0m_clear_item_cache\u001b[0m\u001b[0;34m(\u001b[0m\u001b[0;34m)\u001b[0m\u001b[0;34m\u001b[0m\u001b[0;34m\u001b[0m\u001b[0m\n\u001b[1;32m    768\u001b[0m \u001b[0;34m\u001b[0m\u001b[0m\n",
      "\u001b[0;32m/opt/app-root/lib64/python3.8/site-packages/pandas/core/internals/managers.py\u001b[0m in \u001b[0;36mset_axis\u001b[0;34m(self, axis, new_labels)\u001b[0m\n\u001b[1;32m    214\u001b[0m     \u001b[0;32mdef\u001b[0m \u001b[0mset_axis\u001b[0m\u001b[0;34m(\u001b[0m\u001b[0mself\u001b[0m\u001b[0;34m,\u001b[0m \u001b[0maxis\u001b[0m\u001b[0;34m:\u001b[0m \u001b[0mint\u001b[0m\u001b[0;34m,\u001b[0m \u001b[0mnew_labels\u001b[0m\u001b[0;34m:\u001b[0m \u001b[0mIndex\u001b[0m\u001b[0;34m)\u001b[0m \u001b[0;34m->\u001b[0m \u001b[0;32mNone\u001b[0m\u001b[0;34m:\u001b[0m\u001b[0;34m\u001b[0m\u001b[0;34m\u001b[0m\u001b[0m\n\u001b[1;32m    215\u001b[0m         \u001b[0;31m# Caller is responsible for ensuring we have an Index object.\u001b[0m\u001b[0;34m\u001b[0m\u001b[0;34m\u001b[0m\u001b[0;34m\u001b[0m\u001b[0m\n\u001b[0;32m--> 216\u001b[0;31m         \u001b[0mself\u001b[0m\u001b[0;34m.\u001b[0m\u001b[0m_validate_set_axis\u001b[0m\u001b[0;34m(\u001b[0m\u001b[0maxis\u001b[0m\u001b[0;34m,\u001b[0m \u001b[0mnew_labels\u001b[0m\u001b[0;34m)\u001b[0m\u001b[0;34m\u001b[0m\u001b[0;34m\u001b[0m\u001b[0m\n\u001b[0m\u001b[1;32m    217\u001b[0m         \u001b[0mself\u001b[0m\u001b[0;34m.\u001b[0m\u001b[0maxes\u001b[0m\u001b[0;34m[\u001b[0m\u001b[0maxis\u001b[0m\u001b[0;34m]\u001b[0m \u001b[0;34m=\u001b[0m \u001b[0mnew_labels\u001b[0m\u001b[0;34m\u001b[0m\u001b[0;34m\u001b[0m\u001b[0m\n\u001b[1;32m    218\u001b[0m \u001b[0;34m\u001b[0m\u001b[0m\n",
      "\u001b[0;32m/opt/app-root/lib64/python3.8/site-packages/pandas/core/internals/base.py\u001b[0m in \u001b[0;36m_validate_set_axis\u001b[0;34m(self, axis, new_labels)\u001b[0m\n\u001b[1;32m     55\u001b[0m \u001b[0;34m\u001b[0m\u001b[0m\n\u001b[1;32m     56\u001b[0m         \u001b[0;32melif\u001b[0m \u001b[0mnew_len\u001b[0m \u001b[0;34m!=\u001b[0m \u001b[0mold_len\u001b[0m\u001b[0;34m:\u001b[0m\u001b[0;34m\u001b[0m\u001b[0;34m\u001b[0m\u001b[0m\n\u001b[0;32m---> 57\u001b[0;31m             raise ValueError(\n\u001b[0m\u001b[1;32m     58\u001b[0m                 \u001b[0;34mf\"Length mismatch: Expected axis has {old_len} elements, new \"\u001b[0m\u001b[0;34m\u001b[0m\u001b[0;34m\u001b[0m\u001b[0m\n\u001b[1;32m     59\u001b[0m                 \u001b[0;34mf\"values have {new_len} elements\"\u001b[0m\u001b[0;34m\u001b[0m\u001b[0;34m\u001b[0m\u001b[0m\n",
      "\u001b[0;31mValueError\u001b[0m: Length mismatch: Expected axis has 0 elements, new values have 9 elements"
     ]
    }
   ],
   "source": [
    "pr_metrics = metrics.process_pull_requests()\n",
    "pr_metrics"
   ]
  },
  {
   "cell_type": "code",
   "execution_count": null,
   "id": "e538ef47-d1de-499d-a3d3-4bd633fcf2cc",
   "metadata": {},
   "outputs": [],
   "source": [
    "# define repos for which we want to calculate metrics\n",
    "REPOS = [\"os-climate/aicoe-osc-demo\"]"
   ]
  },
  {
   "cell_type": "code",
   "execution_count": null,
   "id": "d5d3c043-2fb1-4e77-afaa-6fe3e37a5cab",
   "metadata": {},
   "outputs": [],
   "source": [
    "## CEPH Bucket variables\n",
    "## Create a .env file on your local with the correct configs,\n",
    "s3_endpoint_url = os.getenv(\"S3_ENDPOINT\")\n",
    "s3_access_key = os.getenv(\"S3_ACCESS_KEY\")\n",
    "s3_secret_key = os.getenv(\"S3_SECRET_KEY\")\n",
    "s3_bucket = os.getenv(\"S3_BUCKET\")\n",
    "s3_path = os.getenv(\"S3_PROJECT_KEY\", \"open-services-group/metrics/github\")\n",
    "s3_input_data_path = \"raw_data\"\n",
    "REMOTE = os.getenv(\"REMOTE\")"
   ]
  },
  {
   "cell_type": "code",
   "execution_count": null,
   "id": "5929f11b-546e-4c5e-9c2d-7c5425e2092f",
   "metadata": {},
   "outputs": [],
   "source": []
  },
  {
   "cell_type": "code",
   "execution_count": null,
   "id": "761427b0-8540-47ba-abe9-007ca990be80",
   "metadata": {},
   "outputs": [],
   "source": []
  },
  {
   "cell_type": "code",
   "execution_count": null,
   "id": "e72cb0fd-6529-441f-a72a-9f78b550165c",
   "metadata": {},
   "outputs": [],
   "source": []
  }
 ],
 "metadata": {
  "kernelspec": {
   "display_name": "Python 3 (ipykernel)",
   "language": "python",
   "name": "python3"
  },
  "language_info": {
   "codemirror_mode": {
    "name": "ipython",
    "version": 3
   },
   "file_extension": ".py",
   "mimetype": "text/x-python",
   "name": "python",
   "nbconvert_exporter": "python",
   "pygments_lexer": "ipython3",
   "version": "3.8.6"
  }
 },
 "nbformat": 4,
 "nbformat_minor": 5
}
